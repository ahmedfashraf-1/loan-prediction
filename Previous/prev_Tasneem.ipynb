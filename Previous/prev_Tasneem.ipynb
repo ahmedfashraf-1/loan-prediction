{
 "cells": [
  {
   "cell_type": "markdown",
   "id": "9e4aa398",
   "metadata": {},
   "source": [
    "<h1 style=\"\n",
    "  font-size: 55px; \n",
    "  text-align: center; \n",
    "  font-family: 'Poppins', sans-serif; \n",
    "  text-shadow: 2px 2px 5px rgba(63, 155, 77, 0.84);\n",
    "  letter-spacing: 2px;\n",
    "\">\n",
    "  <b>📊 Previous Dataset</b>\n",
    "</h1>\n",
    "<hr style=\"width: 60%; border: 2px solid #21996fd1; border-radius: 5px;\">\n"
   ]
  },
  {
   "cell_type": "code",
   "execution_count": null,
   "id": "23cbe328",
   "metadata": {},
   "outputs": [],
   "source": [
    "import numpy as np\n",
    "import pandas as pd"
   ]
  },
  {
   "cell_type": "code",
   "execution_count": null,
   "id": "1892fbd9",
   "metadata": {},
   "outputs": [],
   "source": [
    "df = pd.read_csv(\"previous_application.csv\")"
   ]
  },
  {
   "cell_type": "markdown",
   "id": "8efe495a",
   "metadata": {},
   "source": [
    "## <span style=\"color:#21996fd1;\">**1- Initial Exploration  & EDA**\n",
    "---"
   ]
  },
  {
   "cell_type": "code",
   "execution_count": null,
   "id": "66fcf244",
   "metadata": {},
   "outputs": [],
   "source": [
    "df.shape"
   ]
  },
  {
   "cell_type": "code",
   "execution_count": null,
   "id": "6022556f",
   "metadata": {},
   "outputs": [],
   "source": [
    "df.head()"
   ]
  },
  {
   "cell_type": "code",
   "execution_count": null,
   "id": "ff810450",
   "metadata": {},
   "outputs": [],
   "source": [
    "df.info()"
   ]
  },
  {
   "cell_type": "code",
   "execution_count": null,
   "id": "74350aa6",
   "metadata": {},
   "outputs": [],
   "source": [
    "df.describe()"
   ]
  },
  {
   "cell_type": "markdown",
   "id": "fde42b68",
   "metadata": {},
   "source": [
    "##### <span style=\"color:#7dc7add1;\">**Show Null Percentage in Every Column**"
   ]
  },
  {
   "cell_type": "code",
   "execution_count": null,
   "id": "28de81cc",
   "metadata": {},
   "outputs": [],
   "source": [
    "null_percents = df.isnull().mean() * 100\n",
    "sorted_nulls = null_percents.sort_values(ascending=False)\n",
    "max_col_length = max(len(col) for col in df.columns)\n",
    "\n",
    "print(f\"{'Column Name'.ljust(max_col_length)} | Null %\")\n",
    "print(\"-\" * (max_col_length + 10))\n",
    "\n",
    "for col, percent in sorted_nulls.items():\n",
    "    print(f\"{col.ljust(max_col_length)} | {percent:6.4f}%\")"
   ]
  },
  {
   "cell_type": "markdown",
   "id": "49f2f6c1",
   "metadata": {},
   "source": [
    "## <span style=\"color:#21996fd1;\"> **2- Data Cleaning**\n",
    "---"
   ]
  },
  {
   "cell_type": "markdown",
   "id": "28a931b7",
   "metadata": {},
   "source": [
    "### <span style=\"color:#7dc7add1;\">**=> Drop Columns**"
   ]
  },
  {
   "cell_type": "code",
   "execution_count": null,
   "id": "66f12a59",
   "metadata": {},
   "outputs": [],
   "source": [
    "# Drop 'SK_ID_PREV' not important\n",
    "df.drop(columns=['SK_ID_PREV'], inplace=True)"
   ]
  },
  {
   "cell_type": "code",
   "execution_count": null,
   "id": "84dd6276",
   "metadata": {},
   "outputs": [],
   "source": [
    "# Drop RATE_INTEREST_PRIVILEGED , RATE_INTEREST_PRIMARY ---> +99% Nulls\n",
    "df.drop(['RATE_INTEREST_PRIVILEGED', 'RATE_INTEREST_PRIMARY'], axis=1, inplace=True)"
   ]
  },
  {
   "cell_type": "code",
   "execution_count": null,
   "id": "4f2635ba",
   "metadata": {},
   "outputs": [],
   "source": [
    "# Drop AMT_DOWN_PAYMENT , RATE_DOWN_PAYMENT ---> 53.6%\n",
    "df.drop(columns=['AMT_DOWN_PAYMENT','RATE_DOWN_PAYMENT'], inplace=True)"
   ]
  },
  {
   "cell_type": "code",
   "execution_count": null,
   "id": "ddecb20e",
   "metadata": {},
   "outputs": [],
   "source": [
    "# Drop NAME_TYPE_SUITE ---> 49% Nulls + Not important in previous data\n",
    "df.drop('NAME_TYPE_SUITE',axis=1,inplace=True)"
   ]
  },
  {
   "cell_type": "code",
   "execution_count": null,
   "id": "6d9c0a17",
   "metadata": {},
   "outputs": [],
   "source": [
    "#Show Nulls Percentage & Unique values in [\"DAYS_TERMINATION\", \"DAYS_FIRST_DRAWING\", \"DAYS_FIRST_DUE\", \"DAYS_LAST_DUE_1ST_VERSION\", \"DAYS_LAST_DUE\"]\n",
    "cols = [\"DAYS_TERMINATION\", \"DAYS_FIRST_DRAWING\", \"DAYS_FIRST_DUE\", \"DAYS_LAST_DUE_1ST_VERSION\", \"DAYS_LAST_DUE\"]\n",
    "\n",
    "for col in cols:\n",
    "    null_count = df[col].isna().sum()\n",
    "    null_percent = (null_count / len(df)) * 100\n",
    "    uniq_values = df[col].unique()\n",
    "    \n",
    "    print(f\"Column : {col}\\nNulls Percentage : {null_percent}\\nUnique values : {uniq_values}\")"
   ]
  },
  {
   "cell_type": "code",
   "execution_count": null,
   "id": "a42c48e5",
   "metadata": {},
   "outputs": [],
   "source": [
    "# All of this columns contain about 40.30% Nulls percenatge value\n",
    "# This is an unreal value in columns as 365243 = placeholder is used instead of missing values ​​(like NULL).It often appears with rejected or canceled loans. \n",
    "df.drop(columns=[\n",
    "    'DAYS_FIRST_DRAWING',\n",
    "    'DAYS_FIRST_DUE',\n",
    "    'DAYS_LAST_DUE_1ST_VERSION',\n",
    "    'DAYS_LAST_DUE',\n",
    "    'NFLAG_INSURED_ON_APPROVAL',\n",
    "    'DAYS_TERMINATION'\n",
    "], inplace=True)"
   ]
  },
  {
   "cell_type": "code",
   "execution_count": null,
   "id": "f0c63563",
   "metadata": {},
   "outputs": [],
   "source": [
    "df.shape"
   ]
  },
  {
   "cell_type": "markdown",
   "id": "21dfa157",
   "metadata": {},
   "source": [
    "### <span style=\"color:#7dc7add1;\">**=> Handling Nulls**\n",
    "---"
   ]
  },
  {
   "cell_type": "code",
   "execution_count": null,
   "id": "d1022d75",
   "metadata": {},
   "outputs": [],
   "source": [
    "df.isna().sum()"
   ]
  },
  {
   "cell_type": "markdown",
   "id": "d2a89d38",
   "metadata": {},
   "source": [
    "##### <span style=\"color:#a8dbc9d1;\">Handling AMT_ANNUITY column"
   ]
  },
  {
   "cell_type": "code",
   "execution_count": null,
   "id": "33cb8219",
   "metadata": {},
   "outputs": [],
   "source": [
    "null_percent = df['AMT_ANNUITY'].isnull().sum() / len(df) * 100\n",
    "print(f\"{null_percent:.4f}%\")\n"
   ]
  },
  {
   "cell_type": "code",
   "execution_count": null,
   "id": "f833c434",
   "metadata": {},
   "outputs": [],
   "source": [
    "df['AMT_ANNUITY'] = df.groupby(['NAME_CONTRACT_TYPE', 'AMT_CREDIT'])['AMT_ANNUITY'].transform(\n",
    "    lambda x: x.fillna(x.median())\n",
    ")\n",
    "df['AMT_ANNUITY'].fillna(df['AMT_ANNUITY'].mean(),inplace=True)"
   ]
  },
  {
   "cell_type": "markdown",
   "id": "8beb16be",
   "metadata": {},
   "source": [
    "##### <span style=\"color:#a8dbc9d1;\">Handling AMT_GOODS_PRICE column"
   ]
  },
  {
   "cell_type": "code",
   "execution_count": null,
   "id": "5c0c8841",
   "metadata": {},
   "outputs": [],
   "source": [
    "null_percent = df['AMT_GOODS_PRICE'].isnull().sum() / len(df) * 100\n",
    "print(f\"missing values: {null_percent:.4f}%\")\n"
   ]
  },
  {
   "cell_type": "code",
   "execution_count": null,
   "id": "df9995ae",
   "metadata": {},
   "outputs": [],
   "source": [
    "df['AMT_GOODS_PRICE'] = df.groupby(['NAME_CONTRACT_TYPE'])['AMT_GOODS_PRICE'].transform(\n",
    "    lambda x: x.fillna(x.median())\n",
    ")\n",
    "df['AMT_GOODS_PRICE'].fillna(df['AMT_GOODS_PRICE'].mean(),inplace=True)"
   ]
  },
  {
   "cell_type": "markdown",
   "id": "dade2477",
   "metadata": {},
   "source": [
    "##### <span style=\"color:#a8dbc9d1;\">Handling CNT_PAYMENT Nulls"
   ]
  },
  {
   "cell_type": "code",
   "execution_count": null,
   "id": "635c08c2",
   "metadata": {},
   "outputs": [],
   "source": [
    "null_percent = df['CNT_PAYMENT'].isnull().sum() / len(df) * 100\n",
    "print(f\"{null_percent:.4f}%\")"
   ]
  },
  {
   "cell_type": "code",
   "execution_count": null,
   "id": "f1a248f2",
   "metadata": {},
   "outputs": [],
   "source": [
    "df['CNT_PAYMENT'] = df.groupby(['NAME_CONTRACT_STATUS', 'NAME_CONTRACT_TYPE'])['CNT_PAYMENT']\\\n",
    "    .transform(lambda x: x.fillna(x.median()))\n",
    "df['CNT_PAYMENT'] = df['CNT_PAYMENT'].fillna(df['CNT_PAYMENT'].mean())"
   ]
  },
  {
   "cell_type": "markdown",
   "id": "59a7360e",
   "metadata": {},
   "source": [
    "##### <span style=\"color:#a8dbc9d1;\">Handling AMT_CREDIT Nulls"
   ]
  },
  {
   "cell_type": "code",
   "execution_count": null,
   "id": "4c3ea086",
   "metadata": {},
   "outputs": [],
   "source": [
    "xna_percent = df['AMT_CREDIT'].isnull().sum() / len(df) * 100\n",
    "print(f\"{xna_percent:.4f}%\")"
   ]
  },
  {
   "cell_type": "code",
   "execution_count": null,
   "id": "b5d2b75e",
   "metadata": {},
   "outputs": [],
   "source": [
    "df = df.dropna(subset=['AMT_CREDIT'])\n",
    "\n",
    "xna_percent = df['AMT_CREDIT'].isnull().sum() / len(df) * 100\n",
    "print(f\"{xna_percent:.4f}%\")"
   ]
  },
  {
   "cell_type": "markdown",
   "id": "9fb2f1e2",
   "metadata": {},
   "source": [
    "##### <span style=\"color:#a8dbc9d1;\">Handling PRODUCT_COMBINATION Nulls"
   ]
  },
  {
   "cell_type": "code",
   "execution_count": null,
   "id": "b93f8878",
   "metadata": {},
   "outputs": [],
   "source": [
    "df['PRODUCT_COMBINATION'] = df['PRODUCT_COMBINATION'].fillna(df['PRODUCT_COMBINATION'].mode().iloc[0])"
   ]
  },
  {
   "cell_type": "code",
   "execution_count": null,
   "id": "3ddab630",
   "metadata": {},
   "outputs": [],
   "source": [
    "df.isna().sum()"
   ]
  },
  {
   "cell_type": "markdown",
   "id": "46dadfe6",
   "metadata": {},
   "source": [
    "### <span style=\"color:#7dc7add1;\">**=> Handling XNA & Unknown Data**\n",
    "---"
   ]
  },
  {
   "cell_type": "markdown",
   "id": "c7a638da",
   "metadata": {},
   "source": [
    "##### <span style=\"color:#a8dbc9d1;\">**Show XNA Percentage in each column conatin it**"
   ]
  },
  {
   "cell_type": "code",
   "execution_count": null,
   "id": "c2ad258f",
   "metadata": {},
   "outputs": [],
   "source": [
    "xna_percent = (df.isin(['XNA']).sum() / len(df)) * 100\n",
    "xap_percent = (df.isin(['XAP']).sum() / len(df)) * 100\n",
    "\n",
    "xna_xpa_df = pd.DataFrame({\n",
    "    'XNA %': xna_percent,\n",
    "    'XAP %': xap_percent\n",
    "})\n",
    "\n",
    "xna_xpa_df = xna_xpa_df[(xna_xpa_df['XNA %'] > 0) | (xna_xpa_df['XAP %'] > 0)]\n",
    "\n",
    "xna_xpa_df = xna_xpa_df.sort_values(by='XNA %', ascending=False)\n",
    "\n",
    "max_col_length = max(len(col) for col in xna_xpa_df.index) if not xna_xpa_df.empty else 100\n",
    "print(f\"{'Column Name'.ljust(max_col_length)} | {'XNA %'.rjust(8)} | {'XAP %'.rjust(8)}\")\n",
    "print(\"-\" * (max_col_length + 25))\n",
    "\n",
    "for col, row in xna_xpa_df.iterrows():\n",
    "    print(f\"{col.ljust(max_col_length)} | {row['XNA %']:8.4f} | {row['XAP %']:8.4f}\")\n"
   ]
  },
  {
   "cell_type": "code",
   "execution_count": null,
   "id": "dd0252a4",
   "metadata": {},
   "outputs": [],
   "source": [
    "Columns = ['NAME_CASH_LOAN_PURPOSE','CODE_REJECT_REASON','NAME_GOODS_CATEGORY','NAME_PRODUCT_TYPE','SELLERPLACE_AREA','NAME_SELLER_INDUSTRY']\n",
    "for col in Columns:\n",
    "    print(f\"Row {col}:\\n\")\n",
    "    print(df[col].value_counts())\n",
    "    print(\"\\n-\" * 15,\"\")"
   ]
  },
  {
   "cell_type": "code",
   "execution_count": null,
   "id": "935d5b29",
   "metadata": {},
   "outputs": [],
   "source": [
    "df.drop(columns=[\n",
    "    'NAME_CASH_LOAN_PURPOSE', # 1352777 XAP\n",
    "    'CODE_REJECT_REASON', # 1352777 XNA\n",
    "    'NAME_GOODS_CATEGORY', # 56% NULLS + 950462 XNA\n",
    "    'NAME_PRODUCT_TYPE',  # 1063320 XNA\n",
    "    'SELLERPLACE_AREA', # Not Important + [762672 row = -1]\n",
    "], inplace=True)"
   ]
  },
  {
   "cell_type": "markdown",
   "id": "a27e769a",
   "metadata": {},
   "source": [
    "##### <span style=\"color:#a8dbc9d1;\">Handle XNA values in NAME_CONTRACT_TYPE"
   ]
  },
  {
   "cell_type": "code",
   "execution_count": null,
   "id": "2b695737",
   "metadata": {},
   "outputs": [],
   "source": [
    "df['NAME_CONTRACT_TYPE'].unique()"
   ]
  },
  {
   "cell_type": "code",
   "execution_count": null,
   "id": "c13e991a",
   "metadata": {},
   "outputs": [],
   "source": [
    "df = df[df['NAME_CONTRACT_TYPE'] != 'XNA']"
   ]
  },
  {
   "cell_type": "markdown",
   "id": "85bdf683",
   "metadata": {},
   "source": [
    "##### <span style=\"color:#a8dbc9d1;\">Handle XNA in NAME_PORTFOLIO"
   ]
  },
  {
   "cell_type": "code",
   "execution_count": null,
   "id": "f6292a80",
   "metadata": {},
   "outputs": [],
   "source": [
    "df['NAME_PORTFOLIO'].unique()"
   ]
  },
  {
   "cell_type": "code",
   "execution_count": null,
   "id": "7bdf7468",
   "metadata": {},
   "outputs": [],
   "source": [
    "df['NAME_PORTFOLIO'].value_counts(normalize=True)"
   ]
  },
  {
   "cell_type": "code",
   "execution_count": null,
   "id": "1158a01f",
   "metadata": {},
   "outputs": [],
   "source": [
    "NAME_PORTFOLIO_count = (df['NAME_PORTFOLIO'] == 'XNA').sum()\n",
    "NAME_PORTFOLIO_percentage = (NAME_PORTFOLIO_count / len(df)) * 100\n",
    "NAME_PORTFOLIO_percentage"
   ]
  },
  {
   "cell_type": "code",
   "execution_count": null,
   "id": "c28c074f",
   "metadata": {},
   "outputs": [],
   "source": [
    "def fix_portfolio(row):\n",
    "    current = str(row['NAME_PORTFOLIO']).strip()\n",
    "    if current != 'XNA':\n",
    "        return current \n",
    "\n",
    "    product = str(row['PRODUCT_COMBINATION']).lower().strip() if pd.notna(row['PRODUCT_COMBINATION']) else ''\n",
    "    industry = str(row['NAME_SELLER_INDUSTRY']).lower().strip() if pd.notna(row['NAME_SELLER_INDUSTRY']) else ''\n",
    "\n",
    "    if product.startswith('cash'):\n",
    "        return 'Cash'\n",
    "    elif product.startswith('card'):\n",
    "        return 'Cards'\n",
    "    elif product.startswith('pos'):\n",
    "        if 'industry' in industry:\n",
    "            return 'Cars'\n",
    "        else:\n",
    "            return 'POS'\n",
    "    else:\n",
    "        return current\n",
    "\n",
    "df['NAME_PORTFOLIO'] = df.apply(fix_portfolio, axis=1)"
   ]
  },
  {
   "cell_type": "code",
   "execution_count": null,
   "id": "fe39f0e3",
   "metadata": {},
   "outputs": [],
   "source": [
    "df.drop('NAME_SELLER_INDUSTRY',axis=1,inplace=True) # 51% NULLS + 855716 XNA"
   ]
  },
  {
   "cell_type": "code",
   "execution_count": null,
   "id": "e975e1af",
   "metadata": {},
   "outputs": [],
   "source": [
    "df['NAME_PORTFOLIO'].value_counts(normalize=True)"
   ]
  }
 ],
 "metadata": {
  "language_info": {
   "name": "python"
  }
 },
 "nbformat": 4,
 "nbformat_minor": 5
}
